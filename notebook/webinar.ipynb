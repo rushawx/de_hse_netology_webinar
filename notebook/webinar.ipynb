{
 "cells": [
  {
   "cell_type": "markdown",
   "id": "48221f69",
   "metadata": {},
   "source": [
    "# Подготовка окружения"
   ]
  },
  {
   "cell_type": "markdown",
   "id": "fcac1855",
   "metadata": {},
   "source": [
    "Перед началом работы рекомендуется создать отдельное окружение, чтобы устанавливаемые вами зависимости ставились не на уровне глобального интерпретатора Python, а на уровне локального окружения. Это полезная практика, которая нацелена на предотвращение ситуации, когда зависимости от разных проектов устанавливаются в одно окружение и начинают конфликтовать друг с другом"
   ]
  },
  {
   "cell_type": "markdown",
   "id": "96c30432",
   "metadata": {},
   "source": [
    "Если вы работаете через Anaconda, то ничего дополнительного делать не требуется"
   ]
  },
  {
   "cell_type": "markdown",
   "id": "0844fd67",
   "metadata": {},
   "source": [
    "Если вы работает с чистым Python, то стоит предпринять следующее действия, обратившись к терминалу командной строки"
   ]
  },
  {
   "cell_type": "markdown",
   "id": "b1a7962e",
   "metadata": {},
   "source": [
    "(Здесь и далее команды приводятся для ОС MacOS)"
   ]
  },
  {
   "cell_type": "markdown",
   "id": "088ae5df",
   "metadata": {},
   "source": [
    "1. Создать локальное окружение:<br>\n",
    "```python3 -m venv .venv```\n",
    "2. Активировать локальное окружение:<br>\n",
    "```source .venv/bin/activate```\n",
    "3. Обновить pip:<br>\n",
    "```pip install --upgrade pip```\n",
    "4. Установить зависимости, используя файл requirements.txt:<br>\n",
    "```pip install -r requirements```"
   ]
  },
  {
   "cell_type": "markdown",
   "id": "6dc05f10",
   "metadata": {},
   "source": [
    "Все, ваше локальное окружение готово к работе"
   ]
  },
  {
   "cell_type": "markdown",
   "id": "3c9fe0af",
   "metadata": {},
   "source": [
    "# Задания из вступительного тестирования"
   ]
  },
  {
   "cell_type": "markdown",
   "id": "30b6150b",
   "metadata": {},
   "source": [
    "## Вопрос №1"
   ]
  },
  {
   "cell_type": "markdown",
   "id": "41119a87",
   "metadata": {},
   "source": [
    "Какой тип в Python реализует работу по принципу LIFO (Последний пришёл, первым уйдёшь)?\n",
    "<li> Множество (set) </li>\n",
    "<li> Кортеж (tuple) </li>\n",
    "<li><b> Список (list) </b></li>\n",
    "<li> Куча (heap) </li>"
   ]
  },
  {
   "cell_type": "markdown",
   "id": "e8c0d1fd",
   "metadata": {},
   "source": [
    "Давайте разберем каждый случай по отдельности"
   ]
  },
  {
   "cell_type": "markdown",
   "id": "32990f01",
   "metadata": {},
   "source": [
    "Множество в Python — это изменяемый, неупорядоченный набор уникальных элементов\n",
    "\n",
    "Оно имеет ряд встроенных методов, из которых:\n",
    "<li> add помогает добавлять элемент в множество </li>\n",
    "<li> remove помогает удалять элемент из множества </lt>\n",
    "<li> pop помогает получить случайных элемент из множества </li>\n",
    "\n",
    "Соответственно, нет двух методов, которые позволяли бы реализовать логику LIFO. Мы можем положить элемент в коллекцию, но не можем выбрать последний добавленный элемент, не зная значения этого элемента - метод `pop` возвращает случайный элемент коллекции, тогда как метод remove требует указания конкретного значения элемента"
   ]
  },
  {
   "cell_type": "code",
   "execution_count": 1,
   "id": "7f7c313d",
   "metadata": {},
   "outputs": [
    {
     "data": {
      "text/plain": [
       "['add',\n",
       " 'clear',\n",
       " 'copy',\n",
       " 'difference',\n",
       " 'difference_update',\n",
       " 'discard',\n",
       " 'intersection',\n",
       " 'intersection_update',\n",
       " 'isdisjoint',\n",
       " 'issubset',\n",
       " 'issuperset',\n",
       " 'pop',\n",
       " 'remove',\n",
       " 'symmetric_difference',\n",
       " 'symmetric_difference_update',\n",
       " 'union',\n",
       " 'update']"
      ]
     },
     "execution_count": 1,
     "metadata": {},
     "output_type": "execute_result"
    }
   ],
   "source": [
    "[x for x in dir(set) if not x.startswith('_') and x != 'set']"
   ]
  },
  {
   "cell_type": "markdown",
   "id": "61ea2035",
   "metadata": {},
   "source": [
    "Кортеж в Python — это неизменяемая упорядоченная последовательность элементов. Исходя из определения, можно догадаться, что данная коллекция также не реализует интерфейс FIFO, потому что данная структура данных является неизменяемой. Мы может лишь проинициализировать ее, но не можем добавлять или удалять элементы из существующего экземпляра класса"
   ]
  },
  {
   "cell_type": "code",
   "execution_count": 2,
   "id": "6aad0965",
   "metadata": {},
   "outputs": [
    {
     "data": {
      "text/plain": [
       "['count', 'index']"
      ]
     },
     "execution_count": 2,
     "metadata": {},
     "output_type": "execute_result"
    }
   ],
   "source": [
    "[x for x in dir(tuple) if not x.startswith('_') and x != 'tuple']"
   ]
  },
  {
   "cell_type": "markdown",
   "id": "79fc8c30",
   "metadata": {},
   "source": [
    "Список в Python — это изменяемая упорядоченная последовательность элементов.\n",
    "\n",
    "Он имеет ряд методов для управления своим содержимым:\n",
    "<li> append позволяет добавлять элемент в список </lt>\n",
    "<li> extend позволяет добавлять несколько элементов другого списка в целевой список </li>\n",
    "<li> insert позволяет добавлять элемент на конкретную позицию внутри списка </li>\n",
    "<li> pop позволяет удалить последний элемент из списка </li>\n",
    "<li> remove позволяет удалять конкретный элемент из списка </li>\n",
    "\n",
    "Соответственно, с помощь методов `append` и `pop` реализуется логика работы с коллекцией по принципу LIFO"
   ]
  },
  {
   "cell_type": "code",
   "execution_count": 3,
   "id": "1a2236f1",
   "metadata": {},
   "outputs": [
    {
     "data": {
      "text/plain": [
       "['append',\n",
       " 'clear',\n",
       " 'copy',\n",
       " 'count',\n",
       " 'extend',\n",
       " 'index',\n",
       " 'insert',\n",
       " 'pop',\n",
       " 'remove',\n",
       " 'reverse',\n",
       " 'sort']"
      ]
     },
     "execution_count": 3,
     "metadata": {},
     "output_type": "execute_result"
    }
   ],
   "source": [
    "[x for x in dir(list) if not x.startswith('_') and x != 'list']"
   ]
  },
  {
   "cell_type": "code",
   "execution_count": 4,
   "id": "54f2a25f",
   "metadata": {},
   "outputs": [
    {
     "name": "stdout",
     "output_type": "stream",
     "text": [
      "Инициализируем список: []\n",
      "Добавили первый элемент: [1]\n",
      "Добавили второй элемент: [1, 2]\n",
      "Удалили последний добавленный элемент: [1]\n",
      "Добавили еще один элемент: [1, 3]\n",
      "Удалили последний добавленный элемент: [1]\n",
      "Еще раз удалил последний добавленный элемент: []\n"
     ]
    }
   ],
   "source": [
    "arr = []\n",
    "\n",
    "print(f\"Инициализируем список: {arr}\")\n",
    "\n",
    "arr.append(1)\n",
    "\n",
    "print(f\"Добавили первый элемент: {arr}\")\n",
    "\n",
    "arr.append(2)\n",
    "\n",
    "print(f\"Добавили второй элемент: {arr}\")\n",
    "\n",
    "arr.pop()\n",
    "\n",
    "print(f\"Удалили последний добавленный элемент: {arr}\")\n",
    "\n",
    "arr.append(3)\n",
    "\n",
    "print(f\"Добавили еще один элемент: {arr}\")\n",
    "\n",
    "arr.pop()\n",
    "\n",
    "print(f\"Удалили последний добавленный элемент: {arr}\")\n",
    "\n",
    "arr.pop()\n",
    "\n",
    "print(f\"Еще раз удалил последний добавленный элемент: {arr}\")"
   ]
  },
  {
   "cell_type": "markdown",
   "id": "104a7ebb",
   "metadata": {},
   "source": [
    "Кучи в Python нет. В стандартной библиотеке Python для работы с кучей используется модуль `heapq`. Куча - это структура данных, реализующая приоритетную очередь, где всегда можно быстро получить минимальный (или максимальный) элемент. Соответственно, исходя из определения она работает не по принципу FIFO"
   ]
  },
  {
   "cell_type": "markdown",
   "id": "943845b1",
   "metadata": {},
   "source": [
    "### Ответ на вопрос 1: Список"
   ]
  },
  {
   "cell_type": "markdown",
   "id": "8299abe0",
   "metadata": {},
   "source": [
    "## Вопрос №2"
   ]
  },
  {
   "cell_type": "markdown",
   "id": "23f6e7a9",
   "metadata": {},
   "source": [
    "Выберите все основные принципы объектно-ориентированного программирования:\n",
    "<li> Алгоритмизация </li>\n",
    "<li><b> Наследование </b></li>\n",
    "<li><b> Полиморфизм </b></li>\n",
    "<li> Воркфлоу </li>\n",
    "<li><b> Инкапсуляция </b></li>\n"
   ]
  },
  {
   "cell_type": "markdown",
   "id": "15a2ac50",
   "metadata": {},
   "source": [
    "Давайте разберем каждый случай по отдельности"
   ]
  },
  {
   "cell_type": "markdown",
   "id": "2f5ec1f0",
   "metadata": {},
   "source": [
    "Алгоритмизация не является принципом ООП. Алгоритмизация — это процесс разработки последовательности шагов для решения поставленной задачи"
   ]
  },
  {
   "cell_type": "markdown",
   "id": "8e3141d8",
   "metadata": {},
   "source": [
    "Наследование - это один из принципов ООП. Наследование — это механизм объектно-ориентированного программирования, позволяющий создавать новый класс на основе уже существующего. В примере ниже мы описываем два класса, первый из которых Animal имеет свой метод speak, а второй из которых Dog наследует все методы родительского класса Animal. Таким образом, экземпляры обоих классов имеют одинаковый метод, хотя для второго класса его никто вручную не прописывал"
   ]
  },
  {
   "cell_type": "code",
   "execution_count": 5,
   "id": "053ed604",
   "metadata": {},
   "outputs": [
    {
     "name": "stdout",
     "output_type": "stream",
     "text": [
      "Животное издает звук\n",
      "Животное издает звук\n"
     ]
    }
   ],
   "source": [
    "class Animal:\n",
    "    def speak(self):\n",
    "        print(\"Животное издает звук\")\n",
    "\n",
    "class Dog(Animal):\n",
    "    pass\n",
    "\n",
    "animal = Animal()\n",
    "\n",
    "animal.speak()\n",
    "\n",
    "dog = Dog()\n",
    "\n",
    "dog.speak()"
   ]
  },
  {
   "cell_type": "markdown",
   "id": "c0c13024",
   "metadata": {},
   "source": [
    "Полиморфизм - это еще один из принципов ООП. Полиморфизм — это свойство объектно-ориентированного программирования, позволяющее использовать один и тот же интерфейс для разных типов объектов. В примере ниже для дочернего класса переопределяется повоедение в рамках метода speak. Таким образом, оба класса имеют метод speak, но их реализация отличается"
   ]
  },
  {
   "cell_type": "code",
   "execution_count": 6,
   "id": "6c4d4eff",
   "metadata": {},
   "outputs": [
    {
     "name": "stdout",
     "output_type": "stream",
     "text": [
      "Животное издает звук\n",
      "Собака лает\n"
     ]
    }
   ],
   "source": [
    "class Animal:\n",
    "    def speak(self):\n",
    "        print(\"Животное издает звук\")\n",
    "\n",
    "class Dog(Animal):\n",
    "    def speak(self):\n",
    "        print(\"Собака лает\")\n",
    "\n",
    "animal = Animal()\n",
    "\n",
    "animal.speak()\n",
    "\n",
    "dog = Dog()\n",
    "\n",
    "dog.speak()"
   ]
  },
  {
   "cell_type": "markdown",
   "id": "20c4eb8c",
   "metadata": {},
   "source": [
    "Воркфлоу не является принципом ООП. Воркфлоу — это последовательность шагов, задач или процессов, которые выполняются для достижения определённой цели или результата."
   ]
  },
  {
   "cell_type": "markdown",
   "id": "66029d6b",
   "metadata": {},
   "source": [
    "Инкапсуляция - это также один из принципов ООП. Инкапсуляция — это принцип объектно-ориентированного программирования, который заключается в объединении данных и методов, работающих с ними, внутри одного класса, а также в ограничении доступа к внутренним деталям реализации объекта. Это позволяет скрыть сложность и защищать данные от некорректного использования.\n",
    "\n",
    "В Python инкапсуляция реализуется с помощью соглашений об именовании:\n",
    "<li> Обычные атрибуты (name) — общедоступные. </li>\n",
    "<li> С одним подчёркиванием (_name) — для внутреннего использования. </li>\n",
    "<li> С двумя подчёркиваниями (__name) — защищённые (name mangling). </li>\n",
    "\n",
    "В примере ниже мы создаем класс Person, который имеет защищенный атрибут name, к которому не получится просто так достучаться. Чтобы его получить, надо будет воспользоваться вспомогательным методом get_name"
   ]
  },
  {
   "cell_type": "code",
   "execution_count": 7,
   "id": "693a119e",
   "metadata": {},
   "outputs": [
    {
     "name": "stdout",
     "output_type": "stream",
     "text": [
      "Ошибка: 'Person' object has no attribute '__name'\n",
      "Анна\n"
     ]
    }
   ],
   "source": [
    "class Person:\n",
    "    def __init__(self, name):\n",
    "        self.__name = name\n",
    "\n",
    "    def get_name(self):\n",
    "        return self.__name\n",
    "\n",
    "person = Person(\"Анна\")\n",
    "\n",
    "try:\n",
    "    print(person.__name)\n",
    "except AttributeError as e:\n",
    "    print(f\"Ошибка: {e}\")\n",
    "\n",
    "print(person.get_name())"
   ]
  },
  {
   "cell_type": "markdown",
   "id": "13c9af17",
   "metadata": {},
   "source": [
    "### Ответ на вопрос 2: Наследование, Полиморфизм, Инкапсулция"
   ]
  },
  {
   "cell_type": "markdown",
   "id": "4ea84e59",
   "metadata": {},
   "source": [
    "## Вопрос №3"
   ]
  },
  {
   "cell_type": "markdown",
   "id": "34524b77",
   "metadata": {},
   "source": [
    "Как расширить область видимости переменной внутри функции?\n",
    "\n",
    "<li><b> Использовать ключевое слово global </b></li>\n",
    "<li> Передать её как аргумент </li>\n",
    "<li> Объявить её внутри цикла </li>\n",
    "<li> Удалить её перед использованием </li>"
   ]
  },
  {
   "cell_type": "markdown",
   "id": "9860c6e3",
   "metadata": {},
   "source": [
    "Давайте разберем каждый случай по отдельности"
   ]
  },
  {
   "cell_type": "markdown",
   "id": "53b16a38",
   "metadata": {},
   "source": [
    "Суть проблемы. Если мы попробуем обратиться к переменной, которая определена вне функции - ошибки не возникнет. Но если мы попробуем с ней что-нибудь сделать, то примененные операции будут действовать только в рамках нашей функции. Вне функции значение переменной останется прежним"
   ]
  },
  {
   "cell_type": "code",
   "execution_count": 8,
   "id": "7cab0a33",
   "metadata": {},
   "outputs": [
    {
     "name": "stdout",
     "output_type": "stream",
     "text": [
      "До вызова функции: 42\n",
      "Внутри функции: 100\n",
      "После вызова функции: 42\n"
     ]
    }
   ],
   "source": [
    "var = 42\n",
    "\n",
    "def my_function():\n",
    "    var = 100\n",
    "    print(f\"Внутри функции: {var}\")\n",
    "\n",
    "print(f\"До вызова функции: {var}\")\n",
    "\n",
    "my_function()\n",
    "\n",
    "print(f\"После вызова функции: {var}\")"
   ]
  },
  {
   "cell_type": "markdown",
   "id": "c1175114",
   "metadata": {},
   "source": [
    "Использовать ключевое слово global. Такой вариант нам подходит. После использования ключевого слова global изменится область видимости при работе с указанной переменной. Примененные операции сохранят свое действие и по окончании выполнения функции"
   ]
  },
  {
   "cell_type": "code",
   "execution_count": 9,
   "id": "9196dd6e",
   "metadata": {},
   "outputs": [
    {
     "name": "stdout",
     "output_type": "stream",
     "text": [
      "До вызова функции: 42\n",
      "Внутри функции: 100\n",
      "После вызова функции: 100\n"
     ]
    }
   ],
   "source": [
    "var = 42\n",
    "\n",
    "def my_function():\n",
    "    global var\n",
    "    var = 100\n",
    "    print(f\"Внутри функции: {var}\")\n",
    "\n",
    "print(f\"До вызова функции: {var}\")\n",
    "\n",
    "my_function()\n",
    "\n",
    "print(f\"После вызова функции: {var}\")"
   ]
  },
  {
   "cell_type": "markdown",
   "id": "76ecb791",
   "metadata": {},
   "source": [
    "Передать её как аргумент. Это не поможет. Применяемые операции будут сохранять свое действие лишь внутри фукнции"
   ]
  },
  {
   "cell_type": "code",
   "execution_count": 10,
   "id": "f978418c",
   "metadata": {},
   "outputs": [
    {
     "name": "stdout",
     "output_type": "stream",
     "text": [
      "До вызова функции: 42\n",
      "Внутри функции: 100\n",
      "После вызова функции: 42\n"
     ]
    }
   ],
   "source": [
    "var = 42\n",
    "\n",
    "def my_function(var):\n",
    "    var = 100\n",
    "    print(f\"Внутри функции: {var}\")\n",
    "\n",
    "print(f\"До вызова функции: {var}\")\n",
    "\n",
    "my_function(var)\n",
    "\n",
    "print(f\"После вызова функции: {var}\")"
   ]
  },
  {
   "cell_type": "markdown",
   "id": "6e1ca309",
   "metadata": {},
   "source": [
    "Объявить её внутри цикла. Это не рекомендуется, так как может привести к путанице и ошибкам в коде. Лучше объявлять переменные вне циклов, чтобы они были доступны в нужной области видимости."
   ]
  },
  {
   "cell_type": "code",
   "execution_count": 11,
   "id": "a0fb11db",
   "metadata": {},
   "outputs": [
    {
     "name": "stdout",
     "output_type": "stream",
     "text": [
      "Внутри цикла: 0\n",
      "Внутри цикла: 1\n",
      "Внутри цикла: 2\n",
      "Внутри цикла: 3\n",
      "Внутри цикла: 4\n"
     ]
    }
   ],
   "source": [
    "for i in range(5):\n",
    "    def inner_function():\n",
    "        print(f\"Внутри цикла: {i}\")\n",
    "    inner_function()"
   ]
  },
  {
   "cell_type": "markdown",
   "id": "1ca937e1",
   "metadata": {},
   "source": [
    "Удалить её перед использованием. Подобная операция приведет к ошибке"
   ]
  },
  {
   "cell_type": "code",
   "execution_count": 12,
   "id": "f71a82f3",
   "metadata": {},
   "outputs": [
    {
     "name": "stdout",
     "output_type": "stream",
     "text": [
      "До вызова функции: 42\n",
      "Ошибка: cannot access local variable 'var' where it is not associated with a value\n",
      "После вызова функции: 42\n"
     ]
    }
   ],
   "source": [
    "var = 42\n",
    "\n",
    "def my_function():\n",
    "    del var\n",
    "    var = 100\n",
    "    print(f\"Внутри функции: {var}\")\n",
    "\n",
    "print(f\"До вызова функции: {var}\")\n",
    "\n",
    "try:\n",
    "    my_function()\n",
    "except UnboundLocalError as e:\n",
    "    print(f\"Ошибка: {e}\")\n",
    "\n",
    "print(f\"После вызова функции: {var}\")"
   ]
  },
  {
   "cell_type": "markdown",
   "id": "3071f042",
   "metadata": {},
   "source": [
    "### Ответ на вопрос 3: Использовать ключевое слово global"
   ]
  },
  {
   "cell_type": "markdown",
   "id": "bab675d5",
   "metadata": {},
   "source": [
    "## Вопрос №4"
   ]
  },
  {
   "cell_type": "markdown",
   "id": "831edca0",
   "metadata": {},
   "source": [
    "Вам предоставлен набор данных о характеристиках качества воды и ее пригодности для питья.\n",
    "\n",
    "[water_potability.csv](data/water_potability.csv)\n",
    "\n",
    "Характеристики: \n",
    "\n",
    "<li> pH: pH воды (измеряется в единицах pH). </li>\n",
    "<li> Hardness: Жесткость воды (измеряется в мг/л). </li>\n",
    "<li> Solids: Общее количество растворенных твердых веществ в воде (измеряется в ppm). </li>\n",
    "<li> Chloramines: Количество хлораминов в воде (измеряется в ppm). </li>\n",
    "<li> Sulfate: Количество сульфатов в воде (измеряется в мг/л). </li>\n",
    "<li> Conductivity: Проводимость воды (измеряется в мкСм/см). </li>\n",
    "<li> Organic_carbon: Количество органического углерода в воде (измеряется в ppm). </li>\n",
    "<li> Trihalomethanes: Количество тригалометанов в воде (измеряется в мкг/л). </li>\n",
    "<li> Turbidity: Мутность воды (измеряется в NTU). </li>\n",
    "<li> Potability: Пригодность воды (1 означает питьевую, 0 - непитьевую). </li>\n",
    "\n",
    "Найдите медианное значение общего количества растворенных твердых веществ для питьевой воды. Округлите ответ до 2 знаков после точки. Пример ответа: 123.45\n"
   ]
  },
  {
   "cell_type": "code",
   "execution_count": 13,
   "id": "15fdb761",
   "metadata": {},
   "outputs": [],
   "source": [
    "import pandas as pd\n",
    "import numpy as np"
   ]
  },
  {
   "cell_type": "code",
   "execution_count": 14,
   "id": "36afc494",
   "metadata": {},
   "outputs": [],
   "source": [
    "df_water = pd.read_csv('../data/water_potability.csv')"
   ]
  },
  {
   "cell_type": "code",
   "execution_count": 15,
   "id": "e1fb8258",
   "metadata": {},
   "outputs": [
    {
     "data": {
      "text/html": [
       "<div>\n",
       "<style scoped>\n",
       "    .dataframe tbody tr th:only-of-type {\n",
       "        vertical-align: middle;\n",
       "    }\n",
       "\n",
       "    .dataframe tbody tr th {\n",
       "        vertical-align: top;\n",
       "    }\n",
       "\n",
       "    .dataframe thead th {\n",
       "        text-align: right;\n",
       "    }\n",
       "</style>\n",
       "<table border=\"1\" class=\"dataframe\">\n",
       "  <thead>\n",
       "    <tr style=\"text-align: right;\">\n",
       "      <th></th>\n",
       "      <th>ph</th>\n",
       "      <th>Hardness</th>\n",
       "      <th>Solids</th>\n",
       "      <th>Chloramines</th>\n",
       "      <th>Sulfate</th>\n",
       "      <th>Conductivity</th>\n",
       "      <th>Organic_carbon</th>\n",
       "      <th>Trihalomethanes</th>\n",
       "      <th>Turbidity</th>\n",
       "      <th>Potability</th>\n",
       "    </tr>\n",
       "  </thead>\n",
       "  <tbody>\n",
       "    <tr>\n",
       "      <th>0</th>\n",
       "      <td>NaN</td>\n",
       "      <td>204.890455</td>\n",
       "      <td>20791.318981</td>\n",
       "      <td>7.300212</td>\n",
       "      <td>368.516441</td>\n",
       "      <td>564.308654</td>\n",
       "      <td>10.379783</td>\n",
       "      <td>86.990970</td>\n",
       "      <td>2.963135</td>\n",
       "      <td>0</td>\n",
       "    </tr>\n",
       "    <tr>\n",
       "      <th>1</th>\n",
       "      <td>3.716080</td>\n",
       "      <td>129.422921</td>\n",
       "      <td>18630.057858</td>\n",
       "      <td>6.635246</td>\n",
       "      <td>NaN</td>\n",
       "      <td>592.885359</td>\n",
       "      <td>15.180013</td>\n",
       "      <td>56.329076</td>\n",
       "      <td>4.500656</td>\n",
       "      <td>0</td>\n",
       "    </tr>\n",
       "    <tr>\n",
       "      <th>2</th>\n",
       "      <td>8.099124</td>\n",
       "      <td>224.236259</td>\n",
       "      <td>19909.541732</td>\n",
       "      <td>9.275884</td>\n",
       "      <td>NaN</td>\n",
       "      <td>418.606213</td>\n",
       "      <td>16.868637</td>\n",
       "      <td>66.420093</td>\n",
       "      <td>3.055934</td>\n",
       "      <td>0</td>\n",
       "    </tr>\n",
       "    <tr>\n",
       "      <th>3</th>\n",
       "      <td>8.316766</td>\n",
       "      <td>214.373394</td>\n",
       "      <td>22018.417441</td>\n",
       "      <td>8.059332</td>\n",
       "      <td>356.886136</td>\n",
       "      <td>363.266516</td>\n",
       "      <td>18.436524</td>\n",
       "      <td>100.341674</td>\n",
       "      <td>4.628771</td>\n",
       "      <td>0</td>\n",
       "    </tr>\n",
       "    <tr>\n",
       "      <th>4</th>\n",
       "      <td>9.092223</td>\n",
       "      <td>181.101509</td>\n",
       "      <td>17978.986339</td>\n",
       "      <td>6.546600</td>\n",
       "      <td>310.135738</td>\n",
       "      <td>398.410813</td>\n",
       "      <td>11.558279</td>\n",
       "      <td>31.997993</td>\n",
       "      <td>4.075075</td>\n",
       "      <td>0</td>\n",
       "    </tr>\n",
       "  </tbody>\n",
       "</table>\n",
       "</div>"
      ],
      "text/plain": [
       "         ph    Hardness        Solids  Chloramines     Sulfate  Conductivity  \\\n",
       "0       NaN  204.890455  20791.318981     7.300212  368.516441    564.308654   \n",
       "1  3.716080  129.422921  18630.057858     6.635246         NaN    592.885359   \n",
       "2  8.099124  224.236259  19909.541732     9.275884         NaN    418.606213   \n",
       "3  8.316766  214.373394  22018.417441     8.059332  356.886136    363.266516   \n",
       "4  9.092223  181.101509  17978.986339     6.546600  310.135738    398.410813   \n",
       "\n",
       "   Organic_carbon  Trihalomethanes  Turbidity  Potability  \n",
       "0       10.379783        86.990970   2.963135           0  \n",
       "1       15.180013        56.329076   4.500656           0  \n",
       "2       16.868637        66.420093   3.055934           0  \n",
       "3       18.436524       100.341674   4.628771           0  \n",
       "4       11.558279        31.997993   4.075075           0  "
      ]
     },
     "execution_count": 15,
     "metadata": {},
     "output_type": "execute_result"
    }
   ],
   "source": [
    "df_water.head()"
   ]
  },
  {
   "cell_type": "code",
   "execution_count": 16,
   "id": "cb5030d0",
   "metadata": {},
   "outputs": [
    {
     "data": {
      "text/plain": [
       "np.float64(21199.39)"
      ]
     },
     "execution_count": 16,
     "metadata": {},
     "output_type": "execute_result"
    }
   ],
   "source": [
    "np.round(df_water[df_water['Potability'] == 1]['Solids'].median(), 2)"
   ]
  },
  {
   "cell_type": "markdown",
   "id": "e80a44bd",
   "metadata": {},
   "source": [
    "### Ответ на вопрос 4: 21199.39"
   ]
  },
  {
   "cell_type": "markdown",
   "id": "d99cf6e4",
   "metadata": {},
   "source": [
    "## Вопрос №5"
   ]
  },
  {
   "cell_type": "markdown",
   "id": "c768c888",
   "metadata": {},
   "source": [
    "Продолжаем работать с набором данных о качестве воды. Найдите количество выбросов для характеристики Trihalomethanes, используя ящик с усами (усы рассчитываются как 1.5 межквартильных размаха, границы усов не входят в выбросы)."
   ]
  },
  {
   "cell_type": "code",
   "execution_count": 17,
   "id": "7afb44d1",
   "metadata": {},
   "outputs": [],
   "source": [
    "import seaborn as sns"
   ]
  },
  {
   "cell_type": "code",
   "execution_count": 18,
   "id": "f5707482",
   "metadata": {},
   "outputs": [
    {
     "data": {
      "text/plain": [
       "<Axes: xlabel='Trihalomethanes'>"
      ]
     },
     "execution_count": 18,
     "metadata": {},
     "output_type": "execute_result"
    },
    {
     "data": {
      "image/png": "[encoded data removed]",
      "text/plain": [
       "<Figure size 640x480 with 1 Axes>"
      ]
     },
     "metadata": {},
     "output_type": "display_data"
    }
   ],
   "source": [
    "sns.boxplot(data=df_water, x='Trihalomethanes')"
   ]
  },
  {
   "cell_type": "code",
   "execution_count": 19,
   "id": "052cb1b5",
   "metadata": {},
   "outputs": [
    {
     "name": "stdout",
     "output_type": "stream",
     "text": [
      "33\n"
     ]
    }
   ],
   "source": [
    "col = df_water['Trihalomethanes'].dropna()\n",
    "\n",
    "q1 = col.quantile(0.25)\n",
    "q3 = col.quantile(0.75)\n",
    "iqr = q3 - q1\n",
    "\n",
    "lb = q1 - 1.5 * iqr\n",
    "ub = q3 + 1.5 * iqr\n",
    "\n",
    "print(col[(col < lb) | (col > ub)].count())"
   ]
  },
  {
   "cell_type": "markdown",
   "id": "0f4c014a",
   "metadata": {},
   "source": [
    "### Ответ на вопрос 5: 33"
   ]
  },
  {
   "cell_type": "markdown",
   "id": "c20016c3",
   "metadata": {},
   "source": [
    "## Вопрос №6"
   ]
  },
  {
   "cell_type": "markdown",
   "id": "acc35785",
   "metadata": {},
   "source": [
    "Что такое инкапсуляция в объектно-ориентированном программировании?\n",
    "<li><b> Механизм, при котором данные и методы, работающие с ними, объединены в единую структуру. </b></lt>\n",
    "<li> Процесс определения нового класса на основе существующего. </li>\n",
    "<li> Способность объекта наследовать свойства и методы другого объекта. </li>\n",
    "<li> Способность метода выполнять различные действия в зависимости от типа объекта, к которому он применяется. </li>"
   ]
  },
  {
   "cell_type": "markdown",
   "id": "d5bce389",
   "metadata": {},
   "source": [
    "Давайте разберем каждый случай по отдельности"
   ]
  },
  {
   "cell_type": "markdown",
   "id": "f4a48cce",
   "metadata": {},
   "source": [
    "Ранее мы уже рассмотрели, что такое инкапсуляция. Определение, данное в первом варианте ответа, также является валидным"
   ]
  },
  {
   "cell_type": "markdown",
   "id": "5b828843",
   "metadata": {},
   "source": [
    "Что касается остальных вариантов ответа, то второй и третий варианты описывают принцип наследования, тогда как четвертый вариант - полиморфизма"
   ]
  },
  {
   "cell_type": "markdown",
   "id": "682bf0d9",
   "metadata": {},
   "source": [
    "### Ответ на вопрос 6: Механизм, при котором данные и методы, работающие с ними, объединены в единую структуру"
   ]
  },
  {
   "cell_type": "markdown",
   "id": "64b56d65",
   "metadata": {},
   "source": [
    "## Вопрос №7"
   ]
  },
  {
   "cell_type": "markdown",
   "id": "1ff426ec",
   "metadata": {},
   "source": [
    "Что означает понятие «итерация» в программировании?\n",
    "<li><b> Процесс выполнения блока кода несколько раз. </b></li>\n",
    "<li> Процесс поиска и исправления ошибок в программе. </li>\n",
    "<li> Процесс преобразования данных из одного формата в другой. </li>\n",
    "<li> Процесс определения типов данных переменных. </li>"
   ]
  },
  {
   "cell_type": "markdown",
   "id": "df72aa27",
   "metadata": {},
   "source": [
    "Давайте разберем каждый случай по отдельности"
   ]
  },
  {
   "cell_type": "markdown",
   "id": "75da1df9",
   "metadata": {},
   "source": [
    "Первый вариант ответа нам подходит. Это как раз является определением понятия \"итерация\". Пример выполнения кода через итерации приведен ниже"
   ]
  },
  {
   "cell_type": "code",
   "execution_count": 20,
   "id": "bcef816d",
   "metadata": {},
   "outputs": [
    {
     "name": "stdout",
     "output_type": "stream",
     "text": [
      "Итерация 1\n",
      "Итерация 2\n",
      "Итерация 3\n",
      "Итерация 4\n",
      "Итерация 5\n"
     ]
    }
   ],
   "source": [
    "for i in range(5):\n",
    "    print(f\"Итерация {i + 1}\")"
   ]
  },
  {
   "cell_type": "markdown",
   "id": "05ab50be",
   "metadata": {},
   "source": [
    "Что касается других вариантов ответа. Процесс поиска и исправления ошибок в программе - это отладка или debugging. Процесс преобразования данных из одного формата в другой - это преобразование или conversion. Процесс определения типов данных переменных - это типизация или typing."
   ]
  },
  {
   "cell_type": "markdown",
   "id": "5b1cc651",
   "metadata": {},
   "source": [
    "### Ответ на вопрос 7: Процесс выполнения блока кода несколько раз."
   ]
  },
  {
   "cell_type": "markdown",
   "id": "0a155094",
   "metadata": {},
   "source": [
    "## Вопрос №8"
   ]
  },
  {
   "cell_type": "markdown",
   "id": "a56b5bde",
   "metadata": {},
   "source": [
    "Что означает инкремент переменной?\n",
    "<li> Уменьшение значения переменной на единицу. </li>\n",
    "<li><b> Увеличение значения переменной на единицу. </b></li>\n",
    "<li> Присваивание переменной нового значения. </li>\n",
    "<li> Удаление переменной из памяти. </li>"
   ]
  },
  {
   "cell_type": "markdown",
   "id": "7ed9301c",
   "metadata": {},
   "source": [
    "Давайте разберем каждый случай по отдельности"
   ]
  },
  {
   "cell_type": "markdown",
   "id": "943f48f0",
   "metadata": {},
   "source": [
    "Уменьшение значения переменной на единицу - это декремент. Пример приведен ниже"
   ]
  },
  {
   "cell_type": "code",
   "execution_count": 21,
   "id": "878283b3",
   "metadata": {},
   "outputs": [
    {
     "name": "stdout",
     "output_type": "stream",
     "text": [
      "Исходное значение: 42\n",
      "Значение после декремента: 41\n"
     ]
    }
   ],
   "source": [
    "val = 42\n",
    "print(f\"Исходное значение: {val}\")\n",
    "val -= 1\n",
    "print(f\"Значение после декремента: {val}\")"
   ]
  },
  {
   "cell_type": "markdown",
   "id": "0080d463",
   "metadata": {},
   "source": [
    "Увеличение значения переменной на единицу - это как раз инкремент."
   ]
  },
  {
   "cell_type": "code",
   "execution_count": 22,
   "id": "3a3c3a2d",
   "metadata": {},
   "outputs": [
    {
     "name": "stdout",
     "output_type": "stream",
     "text": [
      "Исходное значение: 42\n",
      "Значение после инкремента: 43\n"
     ]
    }
   ],
   "source": [
    "val = 42\n",
    "print(f\"Исходное значение: {val}\")\n",
    "val += 1\n",
    "print(f\"Значение после инкремента: {val}\")"
   ]
  },
  {
   "cell_type": "markdown",
   "id": "00339d55",
   "metadata": {},
   "source": [
    "Присваивание переменной нового значения - это просто приваивание."
   ]
  },
  {
   "cell_type": "code",
   "execution_count": 23,
   "id": "4677489c",
   "metadata": {},
   "outputs": [
    {
     "name": "stdout",
     "output_type": "stream",
     "text": [
      "Исходное значение: 42\n",
      "Значение после присваивания: 7\n"
     ]
    }
   ],
   "source": [
    "val = 42\n",
    "print(f\"Исходное значение: {val}\")\n",
    "val = 7\n",
    "print(f\"Значение после присваивания: {val}\")"
   ]
  },
  {
   "cell_type": "markdown",
   "id": "1af5f9ff",
   "metadata": {},
   "source": [
    "Удаление переменной из памяти - это просто удаление."
   ]
  },
  {
   "cell_type": "code",
   "execution_count": 24,
   "id": "006ca4ce",
   "metadata": {},
   "outputs": [
    {
     "name": "stdout",
     "output_type": "stream",
     "text": [
      "Исходное значение: 42\n",
      "Значение удалено, переменная больше не существует.\n",
      "Ошибка: name 'val' is not defined\n"
     ]
    }
   ],
   "source": [
    "val = 42\n",
    "print(f\"Исходное значение: {val}\")\n",
    "del val\n",
    "print(\"Значение удалено, переменная больше не существует.\")\n",
    "try:\n",
    "    print(val)\n",
    "except NameError as e:\n",
    "    print(f\"Ошибка: {e}\")"
   ]
  },
  {
   "cell_type": "markdown",
   "id": "05691431",
   "metadata": {},
   "source": [
    "### Ответ на вопрос 8: Увеличение значения переменной на единицу."
   ]
  },
  {
   "cell_type": "markdown",
   "id": "ebec605d",
   "metadata": {},
   "source": [
    "## Вопрос №9"
   ]
  },
  {
   "cell_type": "markdown",
   "id": "f5e48e08",
   "metadata": {},
   "source": [
    "Вам предоставлен набор данных о проданных машинах.\n",
    "\n",
    "[cars.csv](data/cars.csv)\n",
    "\n",
    "Характеристики:\n",
    "<li> year – год производства машины </li>\n",
    "<li> make – бренд машины </li>\n",
    "<li> model – модель машины </li>\n",
    "<li> body – кузов машины </li>\n",
    "<li> transmission – вид коробки передач </li>\n",
    "<li> condition – состояние машины по шкале от 0 до 50 </li>\n",
    "<li> odometer – пробег машины в км </li>\n",
    "<li> color – цвет кузова </li>\n",
    "<li> interior – цвет интерьера </li>\n",
    "<li> mmr – оценочная рыночная стоимость автомобиля </li>\n",
    "<li> sellingprice – цена продажи автомобиля </li>\n",
    "\n",
    "Машин бренда Nissan какого года производства было продано меньше всего со следующими характеристиками: автоматическая (automatic) коробка передач, оценочная рыночная стоимость выше цены продажи автомобиля? В ответ выпишите год."
   ]
  },
  {
   "cell_type": "code",
   "execution_count": 25,
   "id": "99234fdd",
   "metadata": {},
   "outputs": [],
   "source": [
    "df_cars = pd.read_csv('../data/cars.csv')"
   ]
  },
  {
   "cell_type": "code",
   "execution_count": 26,
   "id": "39f92d0c",
   "metadata": {},
   "outputs": [
    {
     "data": {
      "text/html": [
       "<div>\n",
       "<style scoped>\n",
       "    .dataframe tbody tr th:only-of-type {\n",
       "        vertical-align: middle;\n",
       "    }\n",
       "\n",
       "    .dataframe tbody tr th {\n",
       "        vertical-align: top;\n",
       "    }\n",
       "\n",
       "    .dataframe thead th {\n",
       "        text-align: right;\n",
       "    }\n",
       "</style>\n",
       "<table border=\"1\" class=\"dataframe\">\n",
       "  <thead>\n",
       "    <tr style=\"text-align: right;\">\n",
       "      <th></th>\n",
       "      <th>year</th>\n",
       "      <th>make</th>\n",
       "      <th>model</th>\n",
       "      <th>body</th>\n",
       "      <th>transmission</th>\n",
       "      <th>condition</th>\n",
       "      <th>odometer</th>\n",
       "      <th>color</th>\n",
       "      <th>interior</th>\n",
       "      <th>mmr</th>\n",
       "      <th>sellingprice</th>\n",
       "    </tr>\n",
       "  </thead>\n",
       "  <tbody>\n",
       "    <tr>\n",
       "      <th>0</th>\n",
       "      <td>2011</td>\n",
       "      <td>Lexus</td>\n",
       "      <td>HS 250h</td>\n",
       "      <td>sedan</td>\n",
       "      <td>automatic</td>\n",
       "      <td>35.0</td>\n",
       "      <td>42419.0</td>\n",
       "      <td>silver</td>\n",
       "      <td>black</td>\n",
       "      <td>17300.0</td>\n",
       "      <td>16500.0</td>\n",
       "    </tr>\n",
       "    <tr>\n",
       "      <th>1</th>\n",
       "      <td>2007</td>\n",
       "      <td>Nissan</td>\n",
       "      <td>Sentra</td>\n",
       "      <td>Sedan</td>\n",
       "      <td>NaN</td>\n",
       "      <td>19.0</td>\n",
       "      <td>91467.0</td>\n",
       "      <td>blue</td>\n",
       "      <td>gray</td>\n",
       "      <td>4500.0</td>\n",
       "      <td>4500.0</td>\n",
       "    </tr>\n",
       "    <tr>\n",
       "      <th>2</th>\n",
       "      <td>2002</td>\n",
       "      <td>Pontiac</td>\n",
       "      <td>Sunfire</td>\n",
       "      <td>Coupe</td>\n",
       "      <td>automatic</td>\n",
       "      <td>2.0</td>\n",
       "      <td>45237.0</td>\n",
       "      <td>red</td>\n",
       "      <td>black</td>\n",
       "      <td>1650.0</td>\n",
       "      <td>1300.0</td>\n",
       "    </tr>\n",
       "    <tr>\n",
       "      <th>3</th>\n",
       "      <td>2010</td>\n",
       "      <td>Toyota</td>\n",
       "      <td>RAV4</td>\n",
       "      <td>suv</td>\n",
       "      <td>automatic</td>\n",
       "      <td>26.0</td>\n",
       "      <td>87653.0</td>\n",
       "      <td>gray</td>\n",
       "      <td>beige</td>\n",
       "      <td>10650.0</td>\n",
       "      <td>9800.0</td>\n",
       "    </tr>\n",
       "    <tr>\n",
       "      <th>4</th>\n",
       "      <td>2012</td>\n",
       "      <td>Honda</td>\n",
       "      <td>Accord</td>\n",
       "      <td>Sedan</td>\n",
       "      <td>automatic</td>\n",
       "      <td>37.0</td>\n",
       "      <td>34382.0</td>\n",
       "      <td>black</td>\n",
       "      <td>black</td>\n",
       "      <td>13900.0</td>\n",
       "      <td>14400.0</td>\n",
       "    </tr>\n",
       "  </tbody>\n",
       "</table>\n",
       "</div>"
      ],
      "text/plain": [
       "   year     make    model   body transmission  condition  odometer   color  \\\n",
       "0  2011    Lexus  HS 250h  sedan    automatic       35.0   42419.0  silver   \n",
       "1  2007   Nissan   Sentra  Sedan          NaN       19.0   91467.0    blue   \n",
       "2  2002  Pontiac  Sunfire  Coupe    automatic        2.0   45237.0     red   \n",
       "3  2010   Toyota     RAV4    suv    automatic       26.0   87653.0    gray   \n",
       "4  2012    Honda   Accord  Sedan    automatic       37.0   34382.0   black   \n",
       "\n",
       "  interior      mmr  sellingprice  \n",
       "0    black  17300.0       16500.0  \n",
       "1     gray   4500.0        4500.0  \n",
       "2    black   1650.0        1300.0  \n",
       "3    beige  10650.0        9800.0  \n",
       "4    black  13900.0       14400.0  "
      ]
     },
     "execution_count": 26,
     "metadata": {},
     "output_type": "execute_result"
    }
   ],
   "source": [
    "df_cars.head()"
   ]
  },
  {
   "cell_type": "code",
   "execution_count": 27,
   "id": "3cec9214",
   "metadata": {},
   "outputs": [
    {
     "data": {
      "text/plain": [
       "{'Nissan', 'nissan'}"
      ]
     },
     "execution_count": 27,
     "metadata": {},
     "output_type": "execute_result"
    }
   ],
   "source": [
    "set([x for x in df_cars['make'].dropna() if x.lower().startswith('n')])"
   ]
  },
  {
   "cell_type": "code",
   "execution_count": 28,
   "id": "709c48f9",
   "metadata": {},
   "outputs": [],
   "source": [
    "df_cars['make'] = df_cars['make'].str.lower()"
   ]
  },
  {
   "cell_type": "code",
   "execution_count": 29,
   "id": "4d032948",
   "metadata": {},
   "outputs": [
    {
     "data": {
      "text/plain": [
       "year\n",
       "1996     1\n",
       "1995     2\n",
       "1997     2\n",
       "1999     2\n",
       "1998     4\n",
       "2000     4\n",
       "2001     7\n",
       "2002    13\n",
       "2015    20\n",
       "2003    23\n",
       "dtype: int64"
      ]
     },
     "execution_count": 29,
     "metadata": {},
     "output_type": "execute_result"
    }
   ],
   "source": [
    "df_cars[(df_cars['make'] == 'nissan') & (df_cars['transmission'] == 'automatic') & (df_cars['mmr'] > df_cars['sellingprice'])] \\\n",
    "    .groupby('year').size().sort_values(ascending=True).head(10)"
   ]
  },
  {
   "cell_type": "markdown",
   "id": "ff5c025f",
   "metadata": {},
   "source": [
    "### Ответ на вопрос 9: 1996"
   ]
  },
  {
   "cell_type": "markdown",
   "id": "97a6d526",
   "metadata": {},
   "source": [
    "## Вопрос №10"
   ]
  },
  {
   "cell_type": "markdown",
   "id": "de918823",
   "metadata": {},
   "source": [
    "Продолжаем работать с набором данных о проданных машинах. \n",
    "Вычислите размах (разница между максимальным и минимальным значением) по модулю для характеристики \"состояние машины по шкале от 0 до 50\" для каждого бренда машины. У скольких брендов размах меньше 30?"
   ]
  },
  {
   "cell_type": "code",
   "execution_count": 30,
   "id": "200dde89",
   "metadata": {},
   "outputs": [],
   "source": [
    "df_cars_condition = df_cars.groupby('make').agg({'condition': ['min', 'max']}).reset_index()\n",
    "df_cars_condition.columns = ['make', 'min_condition', 'max_condition']\n",
    "df_cars_condition['range_condition'] = df_cars_condition['max_condition'] - df_cars_condition['min_condition']"
   ]
  },
  {
   "cell_type": "code",
   "execution_count": 31,
   "id": "e2405e62",
   "metadata": {},
   "outputs": [
    {
     "data": {
      "text/html": [
       "<div>\n",
       "<style scoped>\n",
       "    .dataframe tbody tr th:only-of-type {\n",
       "        vertical-align: middle;\n",
       "    }\n",
       "\n",
       "    .dataframe tbody tr th {\n",
       "        vertical-align: top;\n",
       "    }\n",
       "\n",
       "    .dataframe thead th {\n",
       "        text-align: right;\n",
       "    }\n",
       "</style>\n",
       "<table border=\"1\" class=\"dataframe\">\n",
       "  <thead>\n",
       "    <tr style=\"text-align: right;\">\n",
       "      <th></th>\n",
       "      <th>make</th>\n",
       "      <th>min_condition</th>\n",
       "      <th>max_condition</th>\n",
       "      <th>range_condition</th>\n",
       "    </tr>\n",
       "  </thead>\n",
       "  <tbody>\n",
       "    <tr>\n",
       "      <th>0</th>\n",
       "      <td>bentley</td>\n",
       "      <td>23.0</td>\n",
       "      <td>48.0</td>\n",
       "      <td>25.0</td>\n",
       "    </tr>\n",
       "    <tr>\n",
       "      <th>1</th>\n",
       "      <td>dodge tk</td>\n",
       "      <td>19.0</td>\n",
       "      <td>19.0</td>\n",
       "      <td>0.0</td>\n",
       "    </tr>\n",
       "    <tr>\n",
       "      <th>2</th>\n",
       "      <td>fisker</td>\n",
       "      <td>38.0</td>\n",
       "      <td>38.0</td>\n",
       "      <td>0.0</td>\n",
       "    </tr>\n",
       "    <tr>\n",
       "      <th>3</th>\n",
       "      <td>geo</td>\n",
       "      <td>1.0</td>\n",
       "      <td>1.0</td>\n",
       "      <td>0.0</td>\n",
       "    </tr>\n",
       "    <tr>\n",
       "      <th>4</th>\n",
       "      <td>isuzu</td>\n",
       "      <td>1.0</td>\n",
       "      <td>27.0</td>\n",
       "      <td>26.0</td>\n",
       "    </tr>\n",
       "    <tr>\n",
       "      <th>5</th>\n",
       "      <td>landrover</td>\n",
       "      <td>41.0</td>\n",
       "      <td>41.0</td>\n",
       "      <td>0.0</td>\n",
       "    </tr>\n",
       "    <tr>\n",
       "      <th>6</th>\n",
       "      <td>maserati</td>\n",
       "      <td>23.0</td>\n",
       "      <td>48.0</td>\n",
       "      <td>25.0</td>\n",
       "    </tr>\n",
       "    <tr>\n",
       "      <th>7</th>\n",
       "      <td>plymouth</td>\n",
       "      <td>19.0</td>\n",
       "      <td>19.0</td>\n",
       "      <td>0.0</td>\n",
       "    </tr>\n",
       "    <tr>\n",
       "      <th>8</th>\n",
       "      <td>rolls-royce</td>\n",
       "      <td>42.0</td>\n",
       "      <td>42.0</td>\n",
       "      <td>0.0</td>\n",
       "    </tr>\n",
       "  </tbody>\n",
       "</table>\n",
       "</div>"
      ],
      "text/plain": [
       "          make  min_condition  max_condition  range_condition\n",
       "0      bentley           23.0           48.0             25.0\n",
       "1     dodge tk           19.0           19.0              0.0\n",
       "2       fisker           38.0           38.0              0.0\n",
       "3          geo            1.0            1.0              0.0\n",
       "4        isuzu            1.0           27.0             26.0\n",
       "5    landrover           41.0           41.0              0.0\n",
       "6     maserati           23.0           48.0             25.0\n",
       "7     plymouth           19.0           19.0              0.0\n",
       "8  rolls-royce           42.0           42.0              0.0"
      ]
     },
     "execution_count": 31,
     "metadata": {},
     "output_type": "execute_result"
    }
   ],
   "source": [
    "df_cars_condition[df_cars_condition['range_condition'] < 30].reset_index(drop=True)"
   ]
  },
  {
   "cell_type": "markdown",
   "id": "9a49d2a3",
   "metadata": {},
   "source": [
    "### Ответ на вопрос 10: 9"
   ]
  },
  {
   "cell_type": "code",
   "execution_count": null,
   "id": "656a01d2",
   "metadata": {},
   "outputs": [],
   "source": []
  }
 ],
 "metadata": {
  "kernelspec": {
   "display_name": ".venv",
   "language": "python",
   "name": "python3"
  },
  "language_info": {
   "codemirror_mode": {
    "name": "ipython",
    "version": 3
   },
   "file_extension": ".py",
   "mimetype": "text/x-python",
   "name": "python",
   "nbconvert_exporter": "python",
   "pygments_lexer": "ipython3",
   "version": "3.12.10"
  }
 },
 "nbformat": 4,
 "nbformat_minor": 5
}
